{
 "cells": [
  {
   "cell_type": "markdown",
   "metadata": {},
   "source": [
    "# Rendu final\n",
    "\n",
    "Stephen PIET et Théophile LE CLERC"
   ]
  },
  {
   "cell_type": "markdown",
   "metadata": {},
   "source": [
    "Pour continuer ce projet, nous avons décidé de réutiliser les notations que vous avez prises dans le rendu intermédiaire pour avoir des conventions communes."
   ]
  },
  {
   "cell_type": "markdown",
   "metadata": {},
   "source": [
    "## 2 Etude et résolution numérique"
   ]
  },
  {
   "cell_type": "markdown",
   "metadata": {},
   "source": [
    "1.On rappelle donc le problème auquel nous nous sommes ramené dans le cas d'un seul véhicule:\n",
    "\n",
    "$f(w) = p^Tw$\n",
    "\n",
    "$c_1(w) = \\|b_01^Tw - \\Delta q\\|$\n",
    "\n",
    "$c_2(w) = -w$\n",
    "\n",
    "$c_3(w) = w-w_{max}$\n",
    "\n",
    "Ici, on a remplacé dans $c_1$ le vecteur $1_{[n_0,n_f]}$ par le vecteur $1 = 1_{[0,N]} = (1,1,\\dots,1)$ car en dehors de cette intervalle $[n_0,n_f]$ la puissance transmise à la voiture est nulle, donc on suppose que $n_0 = 0$ et $n_f = N$ car on pourra en déduire w sur tout intervalle plus large (nulle en dehors).\n",
    "\n",
    "On remarque que $f$ et $c_2$ sont convexes car linéaires, et que $c_1$ et $c_3$ sont convexes car affines.\n",
    "\n",
    "On peut montrer l'existence d'une solution si on a $ \\Delta q \\leq (N+1)b_0w_{max}$. \n",
    "\n",
    "En effet dans ce cas on sait que l'ensemble des $w$ tq $c_1(w) = 0, c_2(w) \\leq 0$ et $ c_3(w) \\leq 0$ est non vide car $w = \\frac{\\Delta q}{Nb_0}$ y appartient. \n",
    "\n",
    "On a de plus que l'ensemble des $w$ tq $c_2(w) \\leq 0$ et $ c_3(w) \\leq 0$ est un **compact** de $\\mathbb{R}^N$ (fermé borné pour la norme 1 en dimension finie). Or comme l'ensemble des $w$ tq $c_1(w) = 0$ est un hyperplan de $\\mathbb{R}^N$ espace vectoriel de dimension finie, c'est un **fermé**, et ainsi par intersection d'un compact par un fermé, l'ensemble des $w$ vérifiant les contraintes du problème de minimisation est un **compact non vide**. Ainsi, d'après le théorème de Weierstass (l'hypothèse f continue est vérifiée car f est linéaire), **il existe donc une solution à ce problème**.\n",
    "\n",
    "Il n'y a pas toujours unicité de la solution. En effet on peut remarquer que si $p = p_0.1$, alors pour tout w vérifiant les contraintes $f(w) = p^Tw = p_0.1^Tw = \\frac{\\Delta q}{b_0}$, ce qui donne a priori une infinité de solution."
   ]
  },
  {
   "cell_type": "markdown",
   "metadata": {},
   "source": [
    "2.Ordre de grandeurs des variables du problème:\n",
    "\n",
    "$b_0 = \\frac{1}{u_0} = \\frac{1}{220V} \\approx 0.005 V^{-1}$\n",
    "\n",
    "Le prix du kWh en France est compris entre 13,37 et 17,81 centimes selon EDF, soit $0,1337 \\leq p \\leq 0,1781$ si on considère que les instants sont toutes les heures.\n",
    "\n",
    "Pour une borne de recharge de maison, les principaux revendeurs indiquent que $w_{max} \\approx 30 kW$.\n",
    "\n",
    "Pour une seule voiture, nous proposons la méthode intuitive suivante. Tout d'abord il faut vérifier la condition d'existence plus haut. En triant les coordonnées de p, on peut obtenir une permutation $\\Phi : [|0,N|] -> [|0,N|]$ telle que $p_{\\Phi (1)} \\leq p_{\\Phi (2)} \\leq \\dots \\leq p_{\\Phi (N)}$. En fait cela revient à trier les N instants par coût de l'énergie. Le principe est de charger la voiture au maximum pendant l'instant le moins cher c'est à dire $\\Phi (1)$ ici, puis si la voiture n'est toujours pas chargée comme on le souhaite pendant l'instant le moins cher non utilisé ici $\\Phi (2)$ etc jusqu'à ce qu'on ait rempli la voiture.\n",
    "\n",
    "En pseudo-code cela donnerait :\n",
    "\n",
    "`\n",
    "DEBUT DE L'ALGORITHME\n",
    "w <- 0 #vecteur nul\n",
    "Pour j allant de 0 à N:\n",
    "    si deltaq - b0*1T*w est supérieure à b0*wmax:\n",
    "        alors w[phi(j)] <- wmax\n",
    "    sinon:\n",
    "        w[phi(j)] <- u0*deltaq - 1T*w\n",
    "        retourner w\n",
    "    finsi\n",
    "finPour\n",
    "FIN DE L'ALGORITHME\n",
    "`\n",
    "\n",
    "Le w obtenu est bien un minimiseur de la fonction coût. De plus il respecte les contraintes car un invariant est ici que toutes les coordonnées de w sont positives et valent au maximum wmax, et à la fin on a bien $b_01^Tw = \\Delta q$. Pour la minimisation, on a chargé en priorité la voiture pendant les heures les moins chers."
   ]
  },
  {
   "cell_type": "code",
   "execution_count": 1,
   "metadata": {},
   "outputs": [],
   "source": [
    "import numpy as np\n",
    "from scipy import optimize"
   ]
  },
  {
   "cell_type": "code",
   "execution_count": 2,
   "metadata": {},
   "outputs": [],
   "source": [
    "def permutation_croissante(p):\n",
    "    \"\"\"\n",
    "    la fonction renvoie un tableau phi qui contient la valeur de phi(i) (phi étant définie dans la question 2) dans la case i\n",
    "    \"\"\"\n",
    "    N = p.size - 1\n",
    "    phi = np.array([x for x in range(0,N+1)])\n",
    "    for i in range(0,N):\n",
    "        pmin = p[phi[i]]\n",
    "        jmin = i\n",
    "        for j in range(i,N+1):\n",
    "            if p[phi[j]] <= pmin:\n",
    "                pmin = p[phi[j]]\n",
    "                jmin = j\n",
    "        phi[jmin], phi[i] = phi[i], phi[jmin]\n",
    "    return phi"
   ]
  },
  {
   "cell_type": "code",
   "execution_count": 3,
   "metadata": {},
   "outputs": [],
   "source": [
    "def somme(tab):\n",
    "    n = tab.size\n",
    "    somme = 0\n",
    "    for i in range(0,n):\n",
    "        somme += tab[i]\n",
    "    return somme"
   ]
  },
  {
   "cell_type": "code",
   "execution_count": 4,
   "metadata": {},
   "outputs": [],
   "source": [
    "def minimisation_1voiture(p,deltaq,wmax=30000):\n",
    "    \"\"\"\n",
    "    Renvoie un minimiseur de la fonction coût du problème de recharge pour 1 voiture chargeant de l'instant 0 à l'instant N.\n",
    "    deltaq est en coulomb (et positif), wmax en W et p en euros.\n",
    "    \"\"\"\n",
    "    N = p.size - 1\n",
    "    u0 = 220\n",
    "    assert deltaq <= (N+1)*wmax/u0, 'le temps de recharge sera trop faible pour charger comme demandé la voiture'\n",
    "    w = np.zeros(N+1)\n",
    "    phi = permutation_croissante(p)\n",
    "    for j in range(0, N+1):\n",
    "        if u0*deltaq - somme(w) >= wmax:\n",
    "            w[phi[j]] = wmax\n",
    "        else:\n",
    "            w[phi[j]] = u0*deltaq - somme(w)\n",
    "            return(w)"
   ]
  },
  {
   "cell_type": "code",
   "execution_count": 5,
   "metadata": {},
   "outputs": [],
   "source": [
    "def minimisation_1_voiture(p,deltaq,n0,nf, wmax=30000):\n",
    "    N = p.size - 1\n",
    "    assert (0 <= n0) and (n0 <=nf) and (nf<=N), 'il faut que 0<=n0<=nf<=N'\n",
    "    P = p[n0:nf+1]\n",
    "    W = minimisation_1voiture(p,deltaq,wmax)\n",
    "    w = np.concatenate((np.zeros(n0),W,np.zeros(N - nf)))\n",
    "    return w"
   ]
  },
  {
   "cell_type": "code",
   "execution_count": 6,
   "metadata": {},
   "outputs": [
    {
     "name": "stdout",
     "output_type": "stream",
     "text": [
      "[3.00000000e+04 7.27595761e-12 0.00000000e+00 3.00000000e+04\n",
      " 0.00000000e+00]\n"
     ]
    }
   ],
   "source": [
    "phc, php = 0.1337, 0.1781\n",
    "\n",
    "p = np.array([phc,php,php,php])\n",
    "wmax = 30000\n",
    "n10, n1f = 0, 2\n",
    "deltaq1 = wmax/220*2\n",
    "\n",
    "w1 = minimisation_1_voiture(p,deltaq1,n10,n1f,wmax)\n",
    "print(w1)"
   ]
  },
  {
   "cell_type": "markdown",
   "metadata": {},
   "source": [
    "# 3 Etude avancée"
   ]
  },
  {
   "cell_type": "markdown",
   "metadata": {},
   "source": [
    "3.Pour plusieurs véhicules, on a maintenant le problème suivant:\n",
    "\n",
    "Posons $w = \n",
    "\\begin{pmatrix}\n",
    "w_{1,1} \\\\\n",
    "\\vdots \\\\\n",
    "w_{1,N} \\\\\n",
    "w_{2,1} \\\\\n",
    "\\vdots \\\\\n",
    "w_{n_v,N}\n",
    "\\end{pmatrix} \\in \\mathbb{R}^{n_vN}$\n",
    "\n",
    "Plus formellement, on a la n-ième coordonnée de $w$ qui est la j-ème coordonnée de $w_i$ avec $(n-1) = (i-1)N + (j-1)$ la division euclidienne de (n-1) par N. En particulier, i et j sont uniques en fonction de n. On les index donc $i_n$ et $j_n$.\n",
    "Sous cette forme de vecteur de $\\mathbb{R}^{n_vN}$, on peut réécrire f de la forme:\n",
    "\n",
    "$f(w) = \\sum_{n=1}^{n_vN} p_{j_n}w_{i_n,j_n} = \\sum_{n=1}^{n_vN}f_n(w_{i_n,j_n})$ avec $\\forall n, \\forall w, f_n(w) = p_{j_n}w$\n",
    "\n",
    "$$c(w_1, \\dots, w_{n_v}) =\n",
    "\\begin{pmatrix}\n",
    "b_0 1_{[n_{1,0},n_{1,f}]}^T w_1 - \\Delta q_1 \\\\\n",
    "\\Delta q_1 - b_0 1_{[n_{1,0},n_{1,f}]}^T w_1 \\\\\n",
    "\\vdots \\\\\n",
    "b_0 1_{[n_{i,0},n_{i,f}]}^T w_i - \\Delta q_i \\\\\n",
    "\\Delta q_i - b_0 1_{[n_{i,0},n_{i,f}]}^T w_i\\\\\n",
    "\\vdots \\\\\n",
    "b_0 1_{[n_{n_v,0},n_{n_v,f}]}^T w_{n_v} - \\Delta q_{n_v} \\\\\n",
    "\\Delta q_{n_v} - b_0 1_{[n_{n_v,0},n_{n_v,f}]}^T w_{n_v} \\\\\n",
    "-w_{1,1} \\\\\n",
    "\\vdots \\\\\n",
    "-w_{i_n,j_n} \\\\\n",
    "\\vdots \\\\\n",
    "-w_{n_v,N} \\\\\n",
    "(\\sum_{i=1}^{n_v} w_{i,1}) - w_{max} \\\\\n",
    "\\vdots \\\\\n",
    "(\\sum_{i=1}^{n_v} w_{i,j}) - w_{max} \\\\\n",
    "\\vdots \\\\\n",
    "(\\sum_{i=1}^{n_v} w_{i,N}) - w_{max} \\\\\n",
    "\\end{pmatrix} \\in \\mathbb{R}^{2n_v+n_vN + N}\n",
    "$$\n",
    "\n",
    "La première contrainte égalité a été réécrite en deux contraintes inégalités. Dans la suite, comme p est à coefficient positif, nous pouvons remarquer que dans les algorithmes de minimisation, seul la contrainte $\\Delta q_i - b_0 1_{[n_{i,0},n_{i,f}]}^T w_i$ pourra être retenu car comme on cherche à minimiser le prix, on cherchera à minimiser chaque $w_i$ et donc l'autre contrainte sera casiment respectée.\n",
    "\n",
    "Pour séparer les contraintes, on pose \n",
    "\n",
    "$$\\forall n \\in [|1,n_vN|], c_n(w_{i_n,j_n}) =\n",
    "\\begin{pmatrix}\n",
    "0 \\\\\n",
    "\\vdots \\\\\n",
    "0\\\\\n",
    "b_0 \\mathbb{1}_{[n_{i_n,0},n_{i_n,f}]}(j_n) w_{i_n,j_n} - \\frac{\\Delta q_{i_n}}{N} \\\\\n",
    "\\frac{\\Delta q_{i_n}}{N} - b_0 \\mathbb{1}_{[n_{i_n,0},n_{i_n,f}]}(j_n) w_{i_n,j_n} \\\\\n",
    "0\\\\\n",
    "\\vdots \\\\\n",
    "0\\\\\n",
    "-w_{i_n,j_n} \\\\\n",
    "0\\\\\n",
    "\\vdots \\\\\n",
    "0\\\\\n",
    "w_{i_n,j_n} - \\frac{w_{max}}{n_v} \\\\\n",
    "0\\\\\n",
    "\\vdots \\\\\n",
    "0\\\\\n",
    "\\end{pmatrix} \\in \\mathbb{R}^{2n_v+n_vN + N}\n",
    "$$\n",
    "\n",
    "Précisons que les coordonnées non nulles sont celles en positions $2(i_n-1) + 1$,  $2i_n$,  $2n_v +n$  et $2n_v + n_vN + j_n$. On obtient bien avec ces définitions $c(w) = \\sum_{n=1}^{n_vN} c_n(w_{i_n,j_n})$\n",
    "\n",
    "**Il apparaît donc possible de réaliser un algorithme de décomposition/coordination par méthode d'Uzawa.**"
   ]
  },
  {
   "cell_type": "markdown",
   "metadata": {},
   "source": [
    "4.Un peu de notations:\n",
    "\n",
    "$w = \n",
    "\\begin{pmatrix}\n",
    "w_{1,1} \\\\\n",
    "\\vdots \\\\\n",
    "w_{1,N} \\\\\n",
    "w_{2,1} \\\\\n",
    "\\vdots \\\\\n",
    "w_{2,N}\n",
    "\\end{pmatrix} \\in \\mathbb{R}^{2N}$\n",
    "\n",
    "Attention, dans la suite nous noterons $w_n$ pour $w_{i_n,j_n}$\n",
    "\n",
    "$f(w) = f_1(w_1) + f_{2N}(w_{2N})$ avec $\\forall n, \\forall w \\in \\mathbb{R}^{N}, f_n(w) = p_{j_n}w = \\left\\{\n",
    "    \\begin{array}{ll}\n",
    "        p_nw & \\mbox{si } n \\leq N \\\\\n",
    "        p_{n-N}w & \\mbox{sinon.}\n",
    "    \\end{array}\n",
    "\\right.$\n",
    "\n",
    "Dans le cas $n \\leq N \\mbox{, i.e } i_n = 1 \\mbox{ , } j_n = n$\n",
    "\n",
    "$c_n(w_n) =\n",
    "\\begin{pmatrix}\n",
    "b_0 \\mathbb{1}_{[n_{1,0},n_{1,f}]}(n) w_n - \\frac{\\Delta q_{1}}{N} \\\\\n",
    "\\frac{\\Delta q_{1}}{N} - b_0 \\mathbb{1}_{[n_{1,0},n_{1,f}]}(j) w_n \\\\\n",
    "0\\\\\n",
    "\\vdots \\\\\n",
    "0\\\\\n",
    "-w_n \\\\\n",
    "0\\\\\n",
    "\\vdots \\\\\n",
    "0\\\\\n",
    "w_n - \\frac{w_{max}}{n_v} \\\\\n",
    "0\\\\\n",
    "\\vdots \\\\\n",
    "0\\\\\n",
    "\\end{pmatrix} \\in \\mathbb{R}^{4 + 3N}$\n",
    "\n",
    "Dans le cas $n > N \\mbox{, i.e } i_n = 2 \\mbox{ , } j_n = n - N$\n",
    "\n",
    "$c_n(w_n) =\n",
    "\\begin{pmatrix}\n",
    "0\\\\\n",
    "0\\\\\n",
    "b_0 \\mathbb{1}_{[n_{2,0},n_{2,f}]}(n-N) w_n - \\frac{\\Delta q_{2}}{N} \\\\\n",
    "\\frac{\\Delta q_{2}}{N} - b_0 \\mathbb{1}_{[n_{2,0},n_{2,f}]}(n-N) w_n \\\\\n",
    "0\\\\\n",
    "\\vdots \\\\\n",
    "0\\\\\n",
    "-w_n \\\\\n",
    "0\\\\\n",
    "\\vdots \\\\\n",
    "0\\\\\n",
    "w_n - \\frac{w_{max}}{n_v} \\\\\n",
    "0\\\\\n",
    "\\vdots \\\\\n",
    "0\\\\\n",
    "\\end{pmatrix} \\in \\mathbb{R}^{4 + 3N}$\n",
    "\n",
    "Nous venons de nous rendre compte que nous avons changer de notation dans la partie 3. Nous avons considérer que N est le nombre d'instant et non plus N+1. Nous garderons cette convention dans l'algorithme pour suivre les écritures mathématiques ci dessus."
   ]
  },
  {
   "cell_type": "code",
   "execution_count": 11,
   "metadata": {},
   "outputs": [],
   "source": [
    "def uzawa_fixed_step(fun, grad_fun, c, grad_c, x0, l, rho, lambda0 = 1.0, max_iter = 10000, epsilon_grad_L = 1e-8):\n",
    "    k = 0\n",
    "    xk = x0\n",
    "    lambdak = lambda0\n",
    "    grad_Lagrangienk_xk = grad_fun(xk) + np.dot(lambdak,grad_c(xk))\n",
    "    while ((k<max_iter) and (np.linalg.norm(grad_Lagrangienk_xk)>epsilon_grad_L)):\n",
    "        grad_Lagrangienk_xk = grad_fun(xk) + np.dot(lambdak,grad_c(xk))\n",
    "        pk = -grad_Lagrangienk_xk\n",
    "        xk = xk + l*pk;        \n",
    "        lambdak = np.maximum(0, lambdak + rho*c(xk))\n",
    "        k = k + 1\n",
    "    return xk"
   ]
  },
  {
   "cell_type": "code",
   "execution_count": 72,
   "metadata": {},
   "outputs": [],
   "source": [
    "u0 = 220\n",
    "def deffn(p,n,N):\n",
    "    if n<N:\n",
    "        return lambda wn: p[n]*wn\n",
    "    else:\n",
    "        return lambda wn: p[n-N]*wn\n",
    "\n",
    "def defgradfn(p,n,N):\n",
    "    if n<N:\n",
    "        return lambda wn: p[n]\n",
    "    else:\n",
    "        return lambda wn: p[n-N]\n",
    "\n",
    "def defcn(p,n,N,indicatrice1,indicatrice2):\n",
    "    def cn(wn):\n",
    "        c = np.zeros(4+3*N)\n",
    "        if n<N:\n",
    "            c[0] = wn*indicatrice1[n] - u0*deltaq1/N\n",
    "            c[1] = -c[0]\n",
    "            c[0] = 0 #contrainte superflue\n",
    "            c[4+2*N+n] = wn - wmax/2\n",
    "        else:\n",
    "            c[2] = indicatrice2[n-N]*wn - u0*deltaq2/N\n",
    "            c[3] = -c[2]\n",
    "            c[2] = 0 #contrainte superflue\n",
    "            c[4+N+n] = wn - wmax/2\n",
    "        c[4+n] = - wn\n",
    "        return c\n",
    "    return cn\n",
    "\n",
    "def defc(p,N,indicatrice1,indicatrice2):\n",
    "    def c(wk):\n",
    "        c0 =np.zeros(4+3*N)\n",
    "        for n in range(0,2*N):\n",
    "            cn = defcn(p,n,N,indicatrice1,indicatrice2)\n",
    "            c0 = c0 + cn(wk[n])\n",
    "        return c0\n",
    "    return c\n",
    "\n",
    "\n",
    "\n",
    "def defgradcn(p,n,N,indicatrice1,indicatrice2):\n",
    "    gradcn = np.zeros(4+3*N)\n",
    "    if n<N:\n",
    "        gradcn[0] = indicatrice1[n]\n",
    "        gradcn[1] = -gradcn[0]\n",
    "        gradcn[0] = 0 #contrainte superflue\n",
    "        gradcn[4+2*N+n] = 1\n",
    "    else:\n",
    "        gradcn[2] = indicatrice2[n-N]\n",
    "        gradcn[3] = -gradcn[2]\n",
    "        gradcn[2] = 0 #contrainte superflue\n",
    "        gradcn[4+N+n] = 1\n",
    "    gradcn[4+n] = - 1\n",
    "    return lambda wn: gradcn\n",
    "\n",
    "def defgradc(p,N,indicatrice1,indicatrice2):\n",
    "    def gradc(wk):\n",
    "        gradc0 =np.zeros(4+3*N)\n",
    "        for n in range(0,2*N):\n",
    "            gradcn = defgradcn(p,n,N,indicatrice1,indicatrice2)\n",
    "            gradc0 = gradc0 + gradcn(wk[n])\n",
    "        return gradc0\n",
    "    return gradc\n",
    "\n",
    "def gn(p,n,N,lambdak,indicatrice1,indicatrice2):\n",
    "    fn = deffn(p,n,N)\n",
    "    cn = defcn(p,n,N,indicatrice1,indicatrice2)\n",
    "    def g(wn):\n",
    "        return fn(wn) + np.dot(cn(wn),np.transpose(lambdak))\n",
    "    return g\n",
    "    \n",
    "def gradgn(p,n,N,lambdak,indicatrice1,indicatrice2):\n",
    "    gradfn = defgradfn(p,n,N)\n",
    "    gradcn = defgradcn(p,n,N,indicatrice1,indicatrice2)\n",
    "    def gradg(wn):\n",
    "        return gradfn(wn) + np.dot(gradcn(wn),np.transpose(lambdak))\n",
    "    return gradg"
   ]
  },
  {
   "cell_type": "code",
   "execution_count": 73,
   "metadata": {},
   "outputs": [],
   "source": [
    "def decomposition_coordination(p,n10,n1f,n20,n2f,deltaq1,deltaq2, wmax, rho, eps = 10**(-8),maxiter = 100):\n",
    "    \"\"\"\n",
    "    \"\"\"\n",
    "    N = p.size\n",
    "    u0 = 220\n",
    "    lambdak = np.zeros(4+3*N)\n",
    "    lambdak1 = np.ones(4+3*N)\n",
    "    \n",
    "    indicatrice1 = np.zeros(N)\n",
    "    for n in range(n10,n1f+1):\n",
    "        indicatrice1[n] = 1\n",
    "    \n",
    "    indicatrice2 = np.zeros(N)\n",
    "    for n in range(n20,n2f+1):\n",
    "        indicatrice2[n] = 1\n",
    "    \n",
    "    Abs = np.vectorize(lambda x: max(0,x)) #une projection sur R+^m\n",
    "    \n",
    "    w10 = minimisation_1_voiture(p,deltaq1,n10,n1f,wmax/2) #wmax/2 pour avoir somme des wi <= wmax\n",
    "    w20 = minimisation_1_voiture(p,deltaq2,n20,n2f,wmax/2)\n",
    "    w0 = np.concatenate((w10,w20)) #pour commencer les itérations, on prend la concatenation des solutions individuelles\n",
    "    wk = w0\n",
    "    c = defc(p,N,indicatrice1,indicatrice2)\n",
    "    k = 0\n",
    "    while((k<maxiter) and (np.linalg.norm(lambdak1-lambdak)>eps)):\n",
    "        lambdak = lambdak1\n",
    "        for n in range(0,2*N):\n",
    "            g = gn(p,n,N,lambdak,indicatrice1,indicatrice2)\n",
    "            gradg = gradgn(p,n,N,lambdak,indicatrice1,indicatrice2)\n",
    "            cn = defcn(p,n,N,indicatrice1,indicatrice2)\n",
    "            gradcn = defgradcn(p,n,N,indicatrice1,indicatrice2)\n",
    "            wk[n] = uzawa_fixed_step(g, gradg, cn, gradcn, wk[n], rho, rho,np.ones(4+3*N))\n",
    "        lambdak1 = Abs(lambdak + rho*(c(wk)))\n",
    "        k +=1\n",
    "    print(k)\n",
    "    return wk[0:N]*indicatrice1,wk[N:2*N]*indicatrice2\n"
   ]
  },
  {
   "cell_type": "code",
   "execution_count": 110,
   "metadata": {},
   "outputs": [
    {
     "name": "stdout",
     "output_type": "stream",
     "text": [
      "4\n",
      "[14958.94310569 14945.62837651 14945.62837651     0.        ]\n",
      "[ 0.         46.61400174 46.61400174 46.61400174]\n"
     ]
    }
   ],
   "source": [
    "#essai sans la contrainte superflue\n",
    "phc, php = 0.1337, 0.1781\n",
    "\n",
    "p = np.array([phc,php,php,php])\n",
    "wmax = 30000\n",
    "n10, n1f = 0, 2\n",
    "deltaq1 = wmax/220\n",
    "n20, n2f = 1, 3\n",
    "deltaq2 =0\n",
    "w1, w2 = decomposition_coordination(p,n10,n1f,n20,n2f,deltaq1,deltaq2, wmax, 0.01, eps = 10**(-8))\n",
    "print(w1)\n",
    "print(w2)"
   ]
  },
  {
   "cell_type": "code",
   "execution_count": 111,
   "metadata": {},
   "outputs": [
    {
     "data": {
      "text/plain": [
       "0.4950066619568755"
      ]
     },
     "execution_count": 111,
     "metadata": {},
     "output_type": "execute_result"
    }
   ],
   "source": [
    "(somme(w1) - 220*deltaq1)/220/deltaq1"
   ]
  },
  {
   "cell_type": "code",
   "execution_count": 113,
   "metadata": {},
   "outputs": [
    {
     "name": "stdout",
     "output_type": "stream",
     "text": [
      "4\n",
      "[10046.56000001  5026.10775299  5026.10775299     0.        ]\n",
      "[    0.          5026.10775299 10028.79999997  5026.10775299]\n"
     ]
    }
   ],
   "source": [
    "#essai sans la contrainte superflue\n",
    "phc, php = 0.1337, 0.1781\n",
    "\n",
    "p = np.array([phc,php,php,php])\n",
    "wmax = 30000\n",
    "n10, n1f = 0, 2\n",
    "deltaq1 = wmax/220/3\n",
    "n20, n2f = 1, 3\n",
    "deltaq2 =wmax/220/3\n",
    "w1, w2 = decomposition_coordination(p,n10,n1f,n20,n2f,deltaq1,deltaq2, wmax, 0.01, eps = 10**(-8))\n",
    "print(w1)\n",
    "print(w2)"
   ]
  },
  {
   "cell_type": "code",
   "execution_count": 114,
   "metadata": {},
   "outputs": [
    {
     "data": {
      "text/plain": [
       "(1.0098775505992086, 1.0081015505945976)"
      ]
     },
     "execution_count": 114,
     "metadata": {},
     "output_type": "execute_result"
    }
   ],
   "source": [
    "(somme(w1) - 220*deltaq1)/deltaq1/220,(somme(w2) - 220 * deltaq2)/deltaq2/220"
   ]
  },
  {
   "cell_type": "code",
   "execution_count": 115,
   "metadata": {},
   "outputs": [
    {
     "name": "stdout",
     "output_type": "stream",
     "text": [
      "70\n",
      "[13779.26615628 13374.57163428 13375.58160277     0.        ]\n",
      "[    0.         15000.00000004 15000.00000004     0.        ]\n"
     ]
    }
   ],
   "source": [
    "#essai sans la contrainte \"superflue\"\n",
    "phc, php = 0.1337, 0.1781\n",
    "\n",
    "p = np.array([phc,php,php,php])\n",
    "wmax = 30000\n",
    "n10, n1f = 0, 2\n",
    "deltaq1 = wmax/220\n",
    "n20, n2f = 1, 2\n",
    "deltaq2 =wmax/220\n",
    "w1, w2 = decomposition_coordination(p,n10,n1f,n20,n2f,deltaq1,deltaq2, wmax, 0.1, eps = 10**(-8))\n",
    "print(w1)\n",
    "print(w2)"
   ]
  },
  {
   "cell_type": "code",
   "execution_count": 116,
   "metadata": {},
   "outputs": [
    {
     "data": {
      "text/plain": [
       "(0.3509806464443275, 2.470915205776691e-12)"
      ]
     },
     "execution_count": 116,
     "metadata": {},
     "output_type": "execute_result"
    }
   ],
   "source": [
    "(somme(w1) - 220*deltaq1)/deltaq1/220,(somme(w2) - 220 * deltaq2)/deltaq2/220"
   ]
  },
  {
   "cell_type": "markdown",
   "metadata": {},
   "source": [
    "On a des approximations \"hautes\" de la fonction de puissance retenue pour la charge. Le point positif est qu'on aura donc des voitures au moins chargées comme demandé, mais ce sera à un coût trop cher. Essayons une dernière fois en prenant en compte la contrainte que nous avons jugé \"superflue\" en la modifiant très légèrement à cause de l'arrondi."
   ]
  },
  {
   "cell_type": "code",
   "execution_count": 117,
   "metadata": {},
   "outputs": [],
   "source": [
    "eps = 10**(-4)\n",
    "u0 = 220\n",
    "def deffn(p,n,N):\n",
    "    if n<N:\n",
    "        return lambda wn: p[n]*wn\n",
    "    else:\n",
    "        return lambda wn: p[n-N]*wn\n",
    "\n",
    "def defgradfn(p,n,N):\n",
    "    if n<N:\n",
    "        return lambda wn: p[n]\n",
    "    else:\n",
    "        return lambda wn: p[n-N]\n",
    "\n",
    "def defcn(p,n,N,indicatrice1,indicatrice2):\n",
    "    def cn(wn):\n",
    "        c = np.zeros(4+3*N)\n",
    "        if n<N:\n",
    "            c[0] = wn*indicatrice1[n] - u0*deltaq1/N*(1+eps) #eps pour éviter les erreurs d'arrondis\n",
    "            c[1] = -c[0]\n",
    "            #c[0] = 0 #contrainte superflue\n",
    "            c[4+2*N+n] = wn - wmax/2\n",
    "        else:\n",
    "            c[2] = indicatrice2[n-N]*wn - u0*deltaq2/N*(1+eps) #eps pour éviter les erreurs d'arrondis\n",
    "            c[3] = -c[2]\n",
    "            #c[2] = 0 #contrainte superflue\n",
    "            c[4+N+n] = wn - wmax/2\n",
    "        c[4+n] = - wn\n",
    "        return c\n",
    "    return cn\n",
    "\n",
    "def defc(p,N,indicatrice1,indicatrice2):\n",
    "    def c(wk):\n",
    "        c0 =np.zeros(4+3*N)\n",
    "        for n in range(0,2*N):\n",
    "            cn = defcn(p,n,N,indicatrice1,indicatrice2)\n",
    "            c0 = c0 + cn(wk[n])\n",
    "        return c0\n",
    "    return c\n",
    "\n",
    "\n",
    "\n",
    "def defgradcn(p,n,N,indicatrice1,indicatrice2):\n",
    "    gradcn = np.zeros(4+3*N)\n",
    "    if n<N:\n",
    "        gradcn[0] = indicatrice1[n]\n",
    "        gradcn[1] = -gradcn[0]\n",
    "        #gradcn[0] = 0 #contrainte superflue\n",
    "        gradcn[4+2*N+n] = 1\n",
    "    else:\n",
    "        gradcn[2] = indicatrice2[n-N]\n",
    "        gradcn[3] = -gradcn[2]\n",
    "        #gradcn[2] = 0 #contrainte superflue\n",
    "        gradcn[4+N+n] = 1\n",
    "    gradcn[4+n] = - 1\n",
    "    return lambda wn: gradcn\n",
    "\n",
    "def defgradc(p,N,indicatrice1,indicatrice2):\n",
    "    def gradc(wk):\n",
    "        gradc0 =np.zeros(4+3*N)\n",
    "        for n in range(0,2*N):\n",
    "            gradcn = defgradcn(p,n,N,indicatrice1,indicatrice2)\n",
    "            gradc0 = gradc0 + gradcn(wk[n])\n",
    "        return gradc0\n",
    "    return gradc\n",
    "\n",
    "def gn(p,n,N,lambdak,indicatrice1,indicatrice2):\n",
    "    fn = deffn(p,n,N)\n",
    "    cn = defcn(p,n,N,indicatrice1,indicatrice2)\n",
    "    def g(wn):\n",
    "        return fn(wn) + np.dot(cn(wn),np.transpose(lambdak))\n",
    "    return g\n",
    "    \n",
    "def gradgn(p,n,N,lambdak,indicatrice1,indicatrice2):\n",
    "    gradfn = defgradfn(p,n,N)\n",
    "    gradcn = defgradcn(p,n,N,indicatrice1,indicatrice2)\n",
    "    def gradg(wn):\n",
    "        return gradfn(wn) + np.dot(gradcn(wn),np.transpose(lambdak))\n",
    "    return gradg"
   ]
  },
  {
   "cell_type": "code",
   "execution_count": 118,
   "metadata": {},
   "outputs": [],
   "source": [
    "def decomposition_coordination(p,n10,n1f,n20,n2f,deltaq1,deltaq2, wmax, rho, eps = 10**(-8),maxiter = 100):\n",
    "    \"\"\"\n",
    "    \"\"\"\n",
    "    N = p.size\n",
    "    u0 = 220\n",
    "    lambdak = np.zeros(4+3*N)\n",
    "    lambdak1 = np.ones(4+3*N)\n",
    "    \n",
    "    indicatrice1 = np.zeros(N)\n",
    "    for n in range(n10,n1f+1):\n",
    "        indicatrice1[n] = 1\n",
    "    \n",
    "    indicatrice2 = np.zeros(N)\n",
    "    for n in range(n20,n2f+1):\n",
    "        indicatrice2[n] = 1\n",
    "    \n",
    "    Abs = np.vectorize(lambda x: max(0,x)) #une projection sur R+^m\n",
    "    \n",
    "    w10 = minimisation_1_voiture(p,deltaq1,n10,n1f,wmax/2) #wmax/2 pour avoir somme des wi <= wmax\n",
    "    w20 = minimisation_1_voiture(p,deltaq2,n20,n2f,wmax/2)\n",
    "    w0 = np.concatenate((w10,w20)) #pour commencer les itérations, on prend la concatenation des solutions individuelles\n",
    "    wk = w0\n",
    "    c = defc(p,N,indicatrice1,indicatrice2)\n",
    "    k = 0\n",
    "    while((k<maxiter) and (np.linalg.norm(lambdak1-lambdak)>eps)):\n",
    "        lambdak = lambdak1\n",
    "        for n in range(0,2*N):\n",
    "            g = gn(p,n,N,lambdak,indicatrice1,indicatrice2)\n",
    "            gradg = gradgn(p,n,N,lambdak,indicatrice1,indicatrice2)\n",
    "            cn = defcn(p,n,N,indicatrice1,indicatrice2)\n",
    "            gradcn = defgradcn(p,n,N,indicatrice1,indicatrice2)\n",
    "            wk[n] = uzawa_fixed_step(g, gradg, cn, gradcn, wk[n], rho, rho,np.ones(4+3*N))\n",
    "        lambdak1 = Abs(lambdak + rho*(c(wk)))\n",
    "        k +=1\n",
    "    print(k)\n",
    "    return wk[0:N]*indicatrice1,wk[N:2*N]*indicatrice2\n"
   ]
  },
  {
   "cell_type": "code",
   "execution_count": 119,
   "metadata": {},
   "outputs": [
    {
     "name": "stdout",
     "output_type": "stream",
     "text": [
      "100\n",
      "[9361.21989388 9361.19927123 9361.19927123    0.        ]\n",
      "[ 0.         -0.09594421 -0.09594421 -0.09594421]\n"
     ]
    }
   ],
   "source": [
    "#essai avec la contrainte superflue\n",
    "phc, php = 0.1337, 0.1781\n",
    "\n",
    "p = np.array([phc,php,php,php])\n",
    "wmax = 30000\n",
    "n10, n1f = 0, 2\n",
    "deltaq1 = wmax/220\n",
    "n20, n2f = 1, 3\n",
    "deltaq2 =0\n",
    "w1, w2 = decomposition_coordination(p,n10,n1f,n20,n2f,deltaq1,deltaq2, wmax, 0.01, eps = 10**(-8))\n",
    "print(w1)\n",
    "print(w2)"
   ]
  },
  {
   "cell_type": "code",
   "execution_count": 120,
   "metadata": {},
   "outputs": [
    {
     "data": {
      "text/plain": [
       "-0.06387938545565"
      ]
     },
     "execution_count": 120,
     "metadata": {},
     "output_type": "execute_result"
    }
   ],
   "source": [
    "(somme(w1) - 220*deltaq1)/220/deltaq1"
   ]
  },
  {
   "cell_type": "markdown",
   "metadata": {},
   "source": [
    "On est très proche et on remarque qu'on s'est arrêté à cause du nombre maximal d'itérations imposé. Réessayons avec les exemples précédents pour voir si nous pouvons conjecturer une convergence de l'algorithme."
   ]
  },
  {
   "cell_type": "code",
   "execution_count": 122,
   "metadata": {},
   "outputs": [
    {
     "name": "stdout",
     "output_type": "stream",
     "text": [
      "100\n",
      "[3112.43434016 3112.41371751 3112.41371751    0.        ]\n",
      "[   0.         3112.41371751 3112.41371751 3112.41371751]\n"
     ]
    }
   ],
   "source": [
    "#essai avec la contrainte superflue\n",
    "phc, php = 0.1337, 0.1781\n",
    "\n",
    "p = np.array([phc,php,php,php])\n",
    "wmax = 30000\n",
    "n10, n1f = 0, 2\n",
    "deltaq1 = wmax/220/3\n",
    "n20, n2f = 1, 3\n",
    "deltaq2 =wmax/220/3\n",
    "w1, w2 = decomposition_coordination(p,n10,n1f,n20,n2f,deltaq1,deltaq2, wmax, 0.01, eps = 10**(-8))\n",
    "print(w1)\n",
    "print(w2)"
   ]
  },
  {
   "cell_type": "code",
   "execution_count": 123,
   "metadata": {},
   "outputs": [
    {
     "data": {
      "text/plain": [
       "(-0.06627382248210542, -0.06627588474751737)"
      ]
     },
     "execution_count": 123,
     "metadata": {},
     "output_type": "execute_result"
    }
   ],
   "source": [
    "(somme(w1) - 220*deltaq1)/deltaq1/220,(somme(w2) - 220 * deltaq2)/deltaq2/220"
   ]
  },
  {
   "cell_type": "code",
   "execution_count": 125,
   "metadata": {},
   "outputs": [
    {
     "name": "stdout",
     "output_type": "stream",
     "text": [
      "100\n",
      "[10001.03093184 10000.98453407 10000.98453407    -0.        ]\n",
      "[   0.         5136.00844951 5136.00844951   -0.        ]\n"
     ]
    }
   ],
   "source": [
    "#essai avec la contrainte \"superflue\"\n",
    "phc, php = 0.1337, 0.1781\n",
    "\n",
    "p = np.array([phc,php,php,php])\n",
    "wmax = 30000\n",
    "n10, n1f = 0, 2\n",
    "deltaq1 = wmax/220\n",
    "n20, n2f = 1, 2\n",
    "deltaq2 =wmax/220\n",
    "w1, w2 = decomposition_coordination(p,n10,n1f,n20,n2f,deltaq1,deltaq2, wmax, 0.1, eps = 10**(-8))\n",
    "print(w1)\n",
    "print(w2)"
   ]
  },
  {
   "cell_type": "code",
   "execution_count": 126,
   "metadata": {},
   "outputs": [
    {
     "data": {
      "text/plain": [
       "(9.999999901325888e-05, -0.6575994366991066)"
      ]
     },
     "execution_count": 126,
     "metadata": {},
     "output_type": "execute_result"
    }
   ],
   "source": [
    "(somme(w1) - 220*deltaq1)/deltaq1/220,(somme(w2) - 220 * deltaq2)/deltaq2/220"
   ]
  },
  {
   "cell_type": "markdown",
   "metadata": {},
   "source": [
    "## CONCLUSION\n",
    "Nous n'aurons pas le temps d'aller plus loin. Quelques petits points pour expliquer les résultats obtenus. On est plutôt content à la fin puisque les solutions obtenus vérifient bien la première contrainte sur la charge des voitures. Cependant, il n'y a plus comme dans les 3 exemples qui précédaient une recharge principalement sur l'heure numéro 0 (une heure creuse) pour la voiture 1 ce qui est étonnant. On peut même voir cela pour toutes les voitures que la recharge est uniforme par rapport au temps. Ce n'est pas du tout l'effet voulu de l'algorithme. On peut supposer que c'est parce qu'on a donné beaucoup d'importance à la contrainte 1 en réimposant une contrainte qui nous paraissait superflue."
   ]
  }
 ],
 "metadata": {
  "kernelspec": {
   "display_name": "Python 3",
   "language": "python",
   "name": "python3"
  },
  "language_info": {
   "codemirror_mode": {
    "name": "ipython",
    "version": 3
   },
   "file_extension": ".py",
   "mimetype": "text/x-python",
   "name": "python",
   "nbconvert_exporter": "python",
   "pygments_lexer": "ipython3",
   "version": "3.7.6"
  }
 },
 "nbformat": 4,
 "nbformat_minor": 4
}
