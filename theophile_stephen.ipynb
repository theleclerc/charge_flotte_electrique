{
 "cells": [
  {
   "cell_type": "markdown",
   "metadata": {},
   "source": [
    "# Mini-projet Optimisation\n",
    "# Charge d'une flotte de véhicules électriques"
   ]
  },
  {
   "cell_type": "markdown",
   "metadata": {},
   "source": [
    "### 1) Fonction objectif du problème\n",
    "\n",
    "On cherche à réduire à minimiser le coût électrique de recharge défini par \n",
    "$ f(P_1,P_2,...,P_N) = \\sum_{i=1}^{N} \\left( \\displaystyle \\int_{t_0}^{t_f} P_i.C_p.\\mathbb{1}_{heures pleines} \\mathrm{dt} + \\displaystyle \\int_{t_0}^{t_f} P_i.C_c.\\mathbb{1}_{heures creuses} \\mathrm{dt} \\right)$\n",
    "\n",
    "avec $P_i : [t_0, t_f] -> \\mathbb{R}$ qu'on supposera bornées, $C_p$ et $C_c$ les prix du kWh pendant les heures pleines et pendant les heures creuses."
   ]
  },
  {
   "cell_type": "markdown",
   "metadata": {},
   "source": [
    "### 2) Modèle dynamique de charges d'un véhicule\n",
    "\n",
    "On a en notant $c_i$ l'état de charge relatif de la voiture i, $E_i$ l'énergie que stocke la voiture i et $E_{max}$ l'énergie maximale que peut stocker chaque voiture, on a \n",
    "$\\large{c_i(t) = \\frac{E_i(t)}{E_{max}} = \\frac{1}{E_{max}} \\displaystyle \\int_{t_0}^{t} P_i(t') \\mathrm{dt'} + c_i(t_0)}$\n",
    "\n",
    "Si en notant $U_{sec}$ la tension du secteur c'est à dire aux bornes de chaque prise, on a $E_{max} = U_{sec} . Q_{max}$ et $P_i(t) = U_{sec} . i_i(t)$\n",
    "\n",
    "d'où \n",
    "$\\large{c_i(t) = \\displaystyle \\int_{t_0}^{t} \\frac{i_i(t')}{Q_{max}} \\mathrm{dt'}} + c_i(t_0)$"
   ]
  },
  {
   "cell_type": "markdown",
   "metadata": {},
   "source": [
    "### 3) Identificaton du modèle\n",
    "\n",
    "On cherche à identifier $Q_{max}$\n",
    "On va dériver la relation précédente qui nous donne:\n",
    "$\\large{c_i'(t) = \\frac{i_i(t)}{Q_{max}}}$\n",
    "\n",
    "Nous allons donc déterminer approcher la dérivée de l'état de charge relatif et analyser en fonction du courant entrant pour déterminer $Q_{max}$"
   ]
  },
  {
   "cell_type": "code",
   "execution_count": 6,
   "metadata": {},
   "outputs": [],
   "source": [
    "import pandas as pd\n",
    "import numpy as np\n",
    "import matplotlib.pyplot as plt"
   ]
  },
  {
   "cell_type": "code",
   "execution_count": 7,
   "metadata": {},
   "outputs": [
    {
     "data": {
      "text/html": [
       "<div>\n",
       "<style scoped>\n",
       "    .dataframe tbody tr th:only-of-type {\n",
       "        vertical-align: middle;\n",
       "    }\n",
       "\n",
       "    .dataframe tbody tr th {\n",
       "        vertical-align: top;\n",
       "    }\n",
       "\n",
       "    .dataframe thead th {\n",
       "        text-align: right;\n",
       "    }\n",
       "</style>\n",
       "<table border=\"1\" class=\"dataframe\">\n",
       "  <thead>\n",
       "    <tr style=\"text-align: right;\">\n",
       "      <th></th>\n",
       "      <th>temps</th>\n",
       "      <th>intensite</th>\n",
       "      <th>etat</th>\n",
       "    </tr>\n",
       "  </thead>\n",
       "  <tbody>\n",
       "    <tr>\n",
       "      <th>0</th>\n",
       "      <td>0.000000</td>\n",
       "      <td>0.005755</td>\n",
       "      <td>0.626524</td>\n",
       "    </tr>\n",
       "    <tr>\n",
       "      <th>1</th>\n",
       "      <td>1.005016</td>\n",
       "      <td>0.018529</td>\n",
       "      <td>0.631323</td>\n",
       "    </tr>\n",
       "    <tr>\n",
       "      <th>2</th>\n",
       "      <td>2.008215</td>\n",
       "      <td>-0.022398</td>\n",
       "      <td>0.629266</td>\n",
       "    </tr>\n",
       "    <tr>\n",
       "      <th>3</th>\n",
       "      <td>3.018137</td>\n",
       "      <td>0.008812</td>\n",
       "      <td>0.631987</td>\n",
       "    </tr>\n",
       "    <tr>\n",
       "      <th>4</th>\n",
       "      <td>4.023168</td>\n",
       "      <td>0.003566</td>\n",
       "      <td>0.632518</td>\n",
       "    </tr>\n",
       "  </tbody>\n",
       "</table>\n",
       "</div>"
      ],
      "text/plain": [
       "      temps  intensite      etat\n",
       "0  0.000000   0.005755  0.626524\n",
       "1  1.005016   0.018529  0.631323\n",
       "2  2.008215  -0.022398  0.629266\n",
       "3  3.018137   0.008812  0.631987\n",
       "4  4.023168   0.003566  0.632518"
      ]
     },
     "execution_count": 7,
     "metadata": {},
     "output_type": "execute_result"
    }
   ],
   "source": [
    "df_donnees = pd.read_csv(\"donnees-projet-gr1.txt\",sep = \"\\t\")\n",
    "df_donnees.head()"
   ]
  },
  {
   "cell_type": "code",
   "execution_count": 8,
   "metadata": {},
   "outputs": [
    {
     "data": {
      "text/html": [
       "<div>\n",
       "<style scoped>\n",
       "    .dataframe tbody tr th:only-of-type {\n",
       "        vertical-align: middle;\n",
       "    }\n",
       "\n",
       "    .dataframe tbody tr th {\n",
       "        vertical-align: top;\n",
       "    }\n",
       "\n",
       "    .dataframe thead th {\n",
       "        text-align: right;\n",
       "    }\n",
       "</style>\n",
       "<table border=\"1\" class=\"dataframe\">\n",
       "  <thead>\n",
       "    <tr style=\"text-align: right;\">\n",
       "      <th></th>\n",
       "      <th>temps</th>\n",
       "      <th>intensite</th>\n",
       "      <th>etat</th>\n",
       "      <th>dqrel/dt</th>\n",
       "    </tr>\n",
       "  </thead>\n",
       "  <tbody>\n",
       "    <tr>\n",
       "      <th>0</th>\n",
       "      <td>0.000000</td>\n",
       "      <td>0.005755</td>\n",
       "      <td>0.626524</td>\n",
       "      <td>0.004775</td>\n",
       "    </tr>\n",
       "    <tr>\n",
       "      <th>1</th>\n",
       "      <td>1.005016</td>\n",
       "      <td>0.018529</td>\n",
       "      <td>0.631323</td>\n",
       "      <td>-0.002050</td>\n",
       "    </tr>\n",
       "    <tr>\n",
       "      <th>2</th>\n",
       "      <td>2.008215</td>\n",
       "      <td>-0.022398</td>\n",
       "      <td>0.629266</td>\n",
       "      <td>0.002694</td>\n",
       "    </tr>\n",
       "    <tr>\n",
       "      <th>3</th>\n",
       "      <td>3.018137</td>\n",
       "      <td>0.008812</td>\n",
       "      <td>0.631987</td>\n",
       "      <td>0.000529</td>\n",
       "    </tr>\n",
       "    <tr>\n",
       "      <th>4</th>\n",
       "      <td>4.023168</td>\n",
       "      <td>0.003566</td>\n",
       "      <td>0.632518</td>\n",
       "      <td>0.000360</td>\n",
       "    </tr>\n",
       "  </tbody>\n",
       "</table>\n",
       "</div>"
      ],
      "text/plain": [
       "      temps  intensite      etat  dqrel/dt\n",
       "0  0.000000   0.005755  0.626524  0.004775\n",
       "1  1.005016   0.018529  0.631323 -0.002050\n",
       "2  2.008215  -0.022398  0.629266  0.002694\n",
       "3  3.018137   0.008812  0.631987  0.000529\n",
       "4  4.023168   0.003566  0.632518  0.000360"
      ]
     },
     "execution_count": 8,
     "metadata": {},
     "output_type": "execute_result"
    },
    {
     "data": {
      "image/png": "[encoded data removed]",
      "text/plain": [
       "<Figure size 432x288 with 1 Axes>"
      ]
     },
     "metadata": {
      "needs_background": "light"
     },
     "output_type": "display_data"
    }
   ],
   "source": [
    "#on derive l'etat de charge\n",
    "C_prime = np.zeros(299)\n",
    "C = np.array(df_donnees['etat'])\n",
    "T = np.array(df_donnees['temps'])\n",
    "for i in range(0,298):\n",
    "    deltaT = T[i+1] - T[i]\n",
    "    deltaC = C[i+1] - C[i]\n",
    "    C_prime[i] = deltaC/deltaT    \n",
    "C_prime[298]=C_prime[297]\n",
    "\n",
    "#on trace c' en fonction de i\n",
    "I = np.array(df_donnees['intensite'])\n",
    "plt.plot(C_prime, I, 'bo');\n",
    "\n",
    "#on rajoute au dataframe c'\n",
    "df_donnees['dqrel/dt'] = C_prime\n",
    "df_donnees.head()"
   ]
  },
  {
   "cell_type": "markdown",
   "metadata": {},
   "source": [
    "On remarque que les données sont réparties de manière bruités : à (casi) une valeur de i correspondent plusieurs valeurs de c'\n",
    "On va éliminer le bruit en moyennant par valeurs de i."
   ]
  },
  {
   "cell_type": "code",
   "execution_count": 9,
   "metadata": {},
   "outputs": [
    {
     "data": {
      "text/html": [
       "<div>\n",
       "<style scoped>\n",
       "    .dataframe tbody tr th:only-of-type {\n",
       "        vertical-align: middle;\n",
       "    }\n",
       "\n",
       "    .dataframe tbody tr th {\n",
       "        vertical-align: top;\n",
       "    }\n",
       "\n",
       "    .dataframe thead th {\n",
       "        text-align: right;\n",
       "    }\n",
       "</style>\n",
       "<table border=\"1\" class=\"dataframe\">\n",
       "  <thead>\n",
       "    <tr style=\"text-align: right;\">\n",
       "      <th></th>\n",
       "      <th>temps</th>\n",
       "      <th>intensite</th>\n",
       "      <th>etat</th>\n",
       "      <th>dqrel/dt</th>\n",
       "      <th>Intensite group</th>\n",
       "    </tr>\n",
       "  </thead>\n",
       "  <tbody>\n",
       "    <tr>\n",
       "      <th>0</th>\n",
       "      <td>0.000000</td>\n",
       "      <td>0.005755</td>\n",
       "      <td>0.626524</td>\n",
       "      <td>0.004775</td>\n",
       "      <td>-0.25A&lt;.&lt;0.25A</td>\n",
       "    </tr>\n",
       "    <tr>\n",
       "      <th>1</th>\n",
       "      <td>1.005016</td>\n",
       "      <td>0.018529</td>\n",
       "      <td>0.631323</td>\n",
       "      <td>-0.002050</td>\n",
       "      <td>-0.25A&lt;.&lt;0.25A</td>\n",
       "    </tr>\n",
       "    <tr>\n",
       "      <th>2</th>\n",
       "      <td>2.008215</td>\n",
       "      <td>-0.022398</td>\n",
       "      <td>0.629266</td>\n",
       "      <td>0.002694</td>\n",
       "      <td>-0.25A&lt;.&lt;0.25A</td>\n",
       "    </tr>\n",
       "    <tr>\n",
       "      <th>3</th>\n",
       "      <td>3.018137</td>\n",
       "      <td>0.008812</td>\n",
       "      <td>0.631987</td>\n",
       "      <td>0.000529</td>\n",
       "      <td>-0.25A&lt;.&lt;0.25A</td>\n",
       "    </tr>\n",
       "    <tr>\n",
       "      <th>4</th>\n",
       "      <td>4.023168</td>\n",
       "      <td>0.003566</td>\n",
       "      <td>0.632518</td>\n",
       "      <td>0.000360</td>\n",
       "      <td>-0.25A&lt;.&lt;0.25A</td>\n",
       "    </tr>\n",
       "    <tr>\n",
       "      <th>...</th>\n",
       "      <td>...</td>\n",
       "      <td>...</td>\n",
       "      <td>...</td>\n",
       "      <td>...</td>\n",
       "      <td>...</td>\n",
       "    </tr>\n",
       "    <tr>\n",
       "      <th>294</th>\n",
       "      <td>295.401837</td>\n",
       "      <td>-0.962244</td>\n",
       "      <td>0.263155</td>\n",
       "      <td>-0.001355</td>\n",
       "      <td>-1A&lt;.&lt;-0.75A</td>\n",
       "    </tr>\n",
       "    <tr>\n",
       "      <th>295</th>\n",
       "      <td>296.407886</td>\n",
       "      <td>-0.962589</td>\n",
       "      <td>0.261792</td>\n",
       "      <td>-0.000957</td>\n",
       "      <td>-1A&lt;.&lt;-0.75A</td>\n",
       "    </tr>\n",
       "    <tr>\n",
       "      <th>296</th>\n",
       "      <td>297.413096</td>\n",
       "      <td>-0.986931</td>\n",
       "      <td>0.260830</td>\n",
       "      <td>-0.003322</td>\n",
       "      <td>-1A&lt;.&lt;-0.75A</td>\n",
       "    </tr>\n",
       "    <tr>\n",
       "      <th>297</th>\n",
       "      <td>298.418893</td>\n",
       "      <td>-0.956444</td>\n",
       "      <td>0.257489</td>\n",
       "      <td>-0.001184</td>\n",
       "      <td>-1A&lt;.&lt;-0.75A</td>\n",
       "    </tr>\n",
       "    <tr>\n",
       "      <th>298</th>\n",
       "      <td>299.425892</td>\n",
       "      <td>-0.983992</td>\n",
       "      <td>0.256297</td>\n",
       "      <td>-0.001184</td>\n",
       "      <td>-1A&lt;.&lt;-0.75A</td>\n",
       "    </tr>\n",
       "  </tbody>\n",
       "</table>\n",
       "<p>299 rows × 5 columns</p>\n",
       "</div>"
      ],
      "text/plain": [
       "          temps  intensite      etat  dqrel/dt Intensite group\n",
       "0      0.000000   0.005755  0.626524  0.004775  -0.25A<.<0.25A\n",
       "1      1.005016   0.018529  0.631323 -0.002050  -0.25A<.<0.25A\n",
       "2      2.008215  -0.022398  0.629266  0.002694  -0.25A<.<0.25A\n",
       "3      3.018137   0.008812  0.631987  0.000529  -0.25A<.<0.25A\n",
       "4      4.023168   0.003566  0.632518  0.000360  -0.25A<.<0.25A\n",
       "..          ...        ...       ...       ...             ...\n",
       "294  295.401837  -0.962244  0.263155 -0.001355    -1A<.<-0.75A\n",
       "295  296.407886  -0.962589  0.261792 -0.000957    -1A<.<-0.75A\n",
       "296  297.413096  -0.986931  0.260830 -0.003322    -1A<.<-0.75A\n",
       "297  298.418893  -0.956444  0.257489 -0.001184    -1A<.<-0.75A\n",
       "298  299.425892  -0.983992  0.256297 -0.001184    -1A<.<-0.75A\n",
       "\n",
       "[299 rows x 5 columns]"
      ]
     },
     "execution_count": 9,
     "metadata": {},
     "output_type": "execute_result"
    }
   ],
   "source": [
    "#regroupement par valeurs de I\n",
    "intensite_groups = [-4, -3, -2, -1, -0.75, -0.25, 0.25, 0.75, 1] \n",
    "\n",
    "intensite_group_names = ['<-3A', '-3A<.<-2A', '-2A<.<-1A', '-1A<.<-0.75A', '-0.75A<.<-0.25A', '-0.25A<.<0.25A', '0.25A<.<0.75A', '>0.75A']\n",
    "\n",
    "df_donnees['Intensite group'] = pd.cut(\n",
    "    df_donnees['intensite'], bins=intensite_groups, labels=intensite_group_names)\n",
    "df_donnees"
   ]
  },
  {
   "cell_type": "markdown",
   "metadata": {},
   "source": [
    "Maintenant qu'on a regroupé par catégories de valeurs de i (choisies selon le premier graphique), on calcule la moyenne de l'intensité et de c' pour chaque catégories."
   ]
  },
  {
   "cell_type": "code",
   "execution_count": 44,
   "metadata": {},
   "outputs": [
    {
     "data": {
      "text/plain": [
       "array([-3.84973036e+00, -2.40560293e+00, -9.63347293e-01, -4.81853718e-01,\n",
       "        3.01298411e-03,  4.82923727e-01,  9.63605114e-01])"
      ]
     },
     "execution_count": 44,
     "metadata": {},
     "output_type": "execute_result"
    }
   ],
   "source": [
    "df_intensite = df_donnees.pivot_table('intensite', columns='Intensite group', aggfunc=np.mean)\n",
    "I = np.array(df_intensite.T['intensite'][0:7])\n",
    "I"
   ]
  },
  {
   "cell_type": "code",
   "execution_count": 45,
   "metadata": {},
   "outputs": [
    {
     "data": {
      "text/plain": [
       "array([-0.00750355, -0.00471781, -0.0016157 , -0.00098683, -0.00019937,\n",
       "        0.00084472,  0.00175787])"
      ]
     },
     "execution_count": 45,
     "metadata": {},
     "output_type": "execute_result"
    }
   ],
   "source": [
    "df_dq = df_donnees.pivot_table('dqrel/dt', columns='Intensite group', aggfunc=np.mean)\n",
    "dQreldt = np.array(df_dq.T['dqrel/dt'][0:7])\n",
    "dQreldt"
   ]
  },
  {
   "cell_type": "code",
   "execution_count": 46,
   "metadata": {},
   "outputs": [
    {
     "data": {
      "image/png": "[encoded data removed]",
      "text/plain": [
       "<Figure size 432x288 with 1 Axes>"
      ]
     },
     "metadata": {
      "needs_background": "light"
     },
     "output_type": "display_data"
    }
   ],
   "source": [
    "#On trace les valeurs moyennes de l'intensité en fonction des valeurs moyennes de c'\n",
    "\n",
    "I = np.array([-3.84973,-2.405603,-0.963347,-0.481854,0.003013,0.482924,0.963605])\n",
    "dQreldt = np.array([-0.007504,-0.004718,-0.001616,-0.000987,-0.000199,0.000845,0.001758])\n",
    "plt.plot(dQreldt,I)\n",
    "plt.show();"
   ]
  },
  {
   "cell_type": "code",
   "execution_count": 47,
   "metadata": {},
   "outputs": [
    {
     "name": "stderr",
     "output_type": "stream",
     "text": [
      "C:\\anaconda\\anaconda3\\lib\\site-packages\\statsmodels\\stats\\stattools.py:71: ValueWarning: omni_normtest is not valid with less than 8 observations; 7 samples were given.\n",
      "  \"samples were given.\" % int(n), ValueWarning)\n"
     ]
    },
    {
     "data": {
      "text/html": [
       "<table class=\"simpletable\">\n",
       "<caption>OLS Regression Results</caption>\n",
       "<tr>\n",
       "  <th>Dep. Variable:</th>            <td>y</td>        <th>  R-squared (uncentered):</th>      <td>   0.998</td>\n",
       "</tr>\n",
       "<tr>\n",
       "  <th>Model:</th>                   <td>OLS</td>       <th>  Adj. R-squared (uncentered):</th> <td>   0.998</td>\n",
       "</tr>\n",
       "<tr>\n",
       "  <th>Method:</th>             <td>Least Squares</td>  <th>  F-statistic:       </th>          <td>   3879.</td>\n",
       "</tr>\n",
       "<tr>\n",
       "  <th>Date:</th>             <td>Tue, 14 Apr 2020</td> <th>  Prob (F-statistic):</th>          <td>1.15e-09</td>\n",
       "</tr>\n",
       "<tr>\n",
       "  <th>Time:</th>                 <td>17:15:55</td>     <th>  Log-Likelihood:    </th>          <td>  52.298</td>\n",
       "</tr>\n",
       "<tr>\n",
       "  <th>No. Observations:</th>      <td>     7</td>      <th>  AIC:               </th>          <td>  -102.6</td>\n",
       "</tr>\n",
       "<tr>\n",
       "  <th>Df Residuals:</th>          <td>     6</td>      <th>  BIC:               </th>          <td>  -102.6</td>\n",
       "</tr>\n",
       "<tr>\n",
       "  <th>Df Model:</th>              <td>     1</td>      <th>                     </th>              <td> </td>   \n",
       "</tr>\n",
       "<tr>\n",
       "  <th>Covariance Type:</th>      <td>nonrobust</td>    <th>                     </th>              <td> </td>   \n",
       "</tr>\n",
       "</table>\n",
       "<table class=\"simpletable\">\n",
       "<tr>\n",
       "   <td></td>     <th>coef</th>     <th>std err</th>      <th>t</th>      <th>P>|t|</th>  <th>[0.025</th>    <th>0.975]</th>  \n",
       "</tr>\n",
       "<tr>\n",
       "  <th>x1</th> <td>    0.0019</td> <td> 3.11e-05</td> <td>   62.279</td> <td> 0.000</td> <td>    0.002</td> <td>    0.002</td>\n",
       "</tr>\n",
       "</table>\n",
       "<table class=\"simpletable\">\n",
       "<tr>\n",
       "  <th>Omnibus:</th>       <td>   nan</td> <th>  Durbin-Watson:     </th> <td>   1.691</td>\n",
       "</tr>\n",
       "<tr>\n",
       "  <th>Prob(Omnibus):</th> <td>   nan</td> <th>  Jarque-Bera (JB):  </th> <td>   2.629</td>\n",
       "</tr>\n",
       "<tr>\n",
       "  <th>Skew:</th>          <td> 1.392</td> <th>  Prob(JB):          </th> <td>   0.269</td>\n",
       "</tr>\n",
       "<tr>\n",
       "  <th>Kurtosis:</th>      <td> 4.124</td> <th>  Cond. No.          </th> <td>    1.00</td>\n",
       "</tr>\n",
       "</table><br/><br/>Warnings:<br/>[1] Standard Errors assume that the covariance matrix of the errors is correctly specified."
      ],
      "text/plain": [
       "<class 'statsmodels.iolib.summary.Summary'>\n",
       "\"\"\"\n",
       "                                 OLS Regression Results                                \n",
       "=======================================================================================\n",
       "Dep. Variable:                      y   R-squared (uncentered):                   0.998\n",
       "Model:                            OLS   Adj. R-squared (uncentered):              0.998\n",
       "Method:                 Least Squares   F-statistic:                              3879.\n",
       "Date:                Tue, 14 Apr 2020   Prob (F-statistic):                    1.15e-09\n",
       "Time:                        17:15:55   Log-Likelihood:                          52.298\n",
       "No. Observations:                   7   AIC:                                     -102.6\n",
       "Df Residuals:                       6   BIC:                                     -102.6\n",
       "Df Model:                           1                                                  \n",
       "Covariance Type:            nonrobust                                                  \n",
       "==============================================================================\n",
       "                 coef    std err          t      P>|t|      [0.025      0.975]\n",
       "------------------------------------------------------------------------------\n",
       "x1             0.0019   3.11e-05     62.279      0.000       0.002       0.002\n",
       "==============================================================================\n",
       "Omnibus:                          nan   Durbin-Watson:                   1.691\n",
       "Prob(Omnibus):                    nan   Jarque-Bera (JB):                2.629\n",
       "Skew:                           1.392   Prob(JB):                        0.269\n",
       "Kurtosis:                       4.124   Cond. No.                         1.00\n",
       "==============================================================================\n",
       "\n",
       "Warnings:\n",
       "[1] Standard Errors assume that the covariance matrix of the errors is correctly specified.\n",
       "\"\"\""
      ]
     },
     "execution_count": 47,
     "metadata": {},
     "output_type": "execute_result"
    }
   ],
   "source": [
    "#on détermine Qmax à l'aide d'une régression linéaire\n",
    "from statsmodels.regression.linear_model import OLS\n",
    "model = OLS(dQreldt,I)\n",
    "results = model.fit()\n",
    "su = results.summary()\n",
    "su"
   ]
  },
  {
   "cell_type": "code",
   "execution_count": 17,
   "metadata": {},
   "outputs": [],
   "source": [
    "Qmax = 1/0.0019"
   ]
  },
  {
   "cell_type": "markdown",
   "metadata": {},
   "source": [
    "On remarque donc que pour que le modèle s'ajuste aux données, il faut `Qmax = 1/0.0019 C`. On est ravi puisqu'ici le coefficient r² est très proche de 1, ce qui conforte la modélisation linéaire."
   ]
  },
  {
   "cell_type": "markdown",
   "metadata": {},
   "source": [
    "### 4) Contraintes et problème de minimisation\n",
    "\n",
    "cariables de décision : les Pi comme des fonctions en escalier donc des 2N-1 uplets\n",
    "contraintes : \n",
    "    somme des puissances inferieure à Pmax et positive\n",
    "    puissance entre Pmax et -Pmax\n",
    "    (puissances toutes positives)\n",
    "    c(tf) - c(t0) = int(P/Emax)\n",
    "    0<=c<=1"
   ]
  },
  {
   "cell_type": "markdown",
   "metadata": {},
   "source": [
    "Pour simplifier le problème, nous proposons de limiter les valeurs des fonctions Pi. En rangeant les temps t0i et tfi par ordre croissant, on obtient une suite strictement croissante $t_1 < t_2 < \\dots < t_k$ avec k le nombre de date t0 et tf strictement différentes en comptant les dates de changement de tarifs horaires. On a en particulier $2 \\leq k \\leq 2N+1$(si on ne fait que 3 plages tarifaires au max comme une heures pleines, une heures creuses et une autre heures pleines).\n",
    "\n",
    "Il suffit ensuite de remarquer que l'on peut sans perdre l'optimalité de la réponse prendre des Pi constants sur chaque intervalle $[t_i , t_{i+1}]$. En effet le paramètre important est son intégrale sur cet intervalle, et ça ne change pas de prendre donc la moyenne de Pi au lieu de Pi.\n",
    "\n",
    "Ainsi on se ramène à une variable de décision sur les $(P_{ij})_{1 \\leq i \\leq N , 1 \\leq j \\leq k - 1}$ avec $\\forall t \\in [t_j,t_{j+1}]$, $P_i(t) = P_{ij}$\n",
    "\n",
    "On peut dénombrer les contrainte suivantes :\n",
    "\n",
    "$(1) \\sum_{i=1}^{N} P_i - P_{max} \\leq 0$\n",
    "   \n",
    "$(2) - \\sum_{i=1}^{N} P_i \\leq 0$\n",
    "   \n",
    "$(3) \\| \\sum_{i=1}^{N} P_i \\| - P_{max} \\leq 0$\n",
    "  \n",
    "$(4) \\forall i, c_i(t_{fi}) - c_i(t_{0i}) = \\displaystyle \\int_{t_{0i}}^{t_{fi}} \\frac{Pi(t)}{E_{max}} \\mathrm(dt)$\n",
    "\n",
    "$(5) \\forall (t,i) , c_i(t)-1 \\leq 0$ ou comme les Pi sont constants $\\forall k, c_i(t_k) - 1 \\leq 0$\n",
    "\n",
    "$(6) \\forall (t,i) , -c_i(t) \\leq 0$ ou comme les Pi sont constants $\\forall k, -c_i(t_k) \\leq 0$\n",
    "\n",
    "La fonction objectif du problème est :\n",
    "$ f(P_1,P_2,...,P_N) = \\sum_{i=1}^{N} \\left( \\displaystyle \\int_{t_0}^{t_f} P_i.C_p.\\mathbb{1}_{heures pleines} \\mathrm{dt} + \\displaystyle \\int_{t_0}^{t_f} P_i.C_c.\\mathbb{1}_{heures creuses} \\mathrm{dt} \\right)$\n",
    "\n",
    "En notant C_j le coût du kWh sur l'intervalle de temps $[t_j,t_{j+1}]$ (fixe), on simplifie l'expression précédente en \n",
    "$f(P_{1,1}, \\dots, P_{1,k-1}, \\dots, P_{N,1}, \\dots, P_{N,k-1}) = \\sum_{i=1}^{N} \\sum_{j=1}^{k-1} (P_{i,j} . C_j .(t_{j+1}-t_j))$"
   ]
  }
 ],
 "metadata": {
  "kernelspec": {
   "display_name": "Python 3",
   "language": "python",
   "name": "python3"
  },
  "language_info": {
   "codemirror_mode": {
    "name": "ipython",
    "version": 3
   },
   "file_extension": ".py",
   "mimetype": "text/x-python",
   "name": "python",
   "nbconvert_exporter": "python",
   "pygments_lexer": "ipython3",
   "version": "3.7.6"
  }
 },
 "nbformat": 4,
 "nbformat_minor": 4
}
